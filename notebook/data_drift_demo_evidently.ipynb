{
 "cells": [
  {
   "cell_type": "code",
   "execution_count": 1,
   "id": "faaa6f80",
   "metadata": {},
   "outputs": [
    {
     "name": "stdout",
     "output_type": "stream",
     "text": [
      "Requirement already satisfied: evidently in /opt/anaconda3/envs/visa/lib/python3.8/site-packages (0.4.36)\n",
      "Requirement already satisfied: plotly>=5.10.0 in /opt/anaconda3/envs/visa/lib/python3.8/site-packages (from evidently) (5.24.1)\n",
      "Requirement already satisfied: statsmodels>=0.12.2 in /opt/anaconda3/envs/visa/lib/python3.8/site-packages (from evidently) (0.14.1)\n",
      "Requirement already satisfied: scikit-learn>=1.0.1 in /opt/anaconda3/envs/visa/lib/python3.8/site-packages (from evidently) (1.2.2)\n",
      "Requirement already satisfied: pandas>=1.3.5 in /opt/anaconda3/envs/visa/lib/python3.8/site-packages (from pandas[parquet]>=1.3.5->evidently) (2.0.0)\n",
      "Requirement already satisfied: numpy>=1.22.0 in /opt/anaconda3/envs/visa/lib/python3.8/site-packages (from evidently) (1.24.2)\n",
      "Requirement already satisfied: nltk>=3.6.7 in /opt/anaconda3/envs/visa/lib/python3.8/site-packages (from evidently) (3.9.1)\n",
      "Requirement already satisfied: scipy>=1.10.0 in /opt/anaconda3/envs/visa/lib/python3.8/site-packages (from evidently) (1.10.1)\n",
      "Requirement already satisfied: requests>=2.32.0 in /opt/anaconda3/envs/visa/lib/python3.8/site-packages (from evidently) (2.32.3)\n",
      "Requirement already satisfied: PyYAML>=5.4 in /opt/anaconda3/envs/visa/lib/python3.8/site-packages (from evidently) (6.0.2)\n",
      "Requirement already satisfied: pydantic>=1.10.13 in /opt/anaconda3/envs/visa/lib/python3.8/site-packages (from evidently) (2.8.2)\n",
      "Requirement already satisfied: litestar>=2.8.3 in /opt/anaconda3/envs/visa/lib/python3.8/site-packages (from evidently) (2.12.1)\n",
      "Requirement already satisfied: typing-inspect>=0.9.0 in /opt/anaconda3/envs/visa/lib/python3.8/site-packages (from evidently) (0.9.0)\n",
      "Requirement already satisfied: uvicorn>=0.22.0 in /opt/anaconda3/envs/visa/lib/python3.8/site-packages (from uvicorn[standard]>=0.22.0->evidently) (0.32.1)\n",
      "Requirement already satisfied: watchdog>=3.0.0 in /opt/anaconda3/envs/visa/lib/python3.8/site-packages (from evidently) (4.0.1)\n",
      "Requirement already satisfied: typer>=0.3 in /opt/anaconda3/envs/visa/lib/python3.8/site-packages (from evidently) (0.12.5)\n",
      "Requirement already satisfied: rich>=13 in /opt/anaconda3/envs/visa/lib/python3.8/site-packages (from evidently) (13.9.4)\n",
      "Requirement already satisfied: iterative-telemetry>=0.0.5 in /opt/anaconda3/envs/visa/lib/python3.8/site-packages (from evidently) (0.0.9)\n",
      "Requirement already satisfied: dynaconf>=3.2.4 in /opt/anaconda3/envs/visa/lib/python3.8/site-packages (from evidently) (3.2.6)\n",
      "Requirement already satisfied: certifi>=2024.7.4 in /opt/anaconda3/envs/visa/lib/python3.8/site-packages (from evidently) (2024.8.30)\n",
      "Requirement already satisfied: urllib3>=1.26.19 in /opt/anaconda3/envs/visa/lib/python3.8/site-packages (from evidently) (2.2.3)\n",
      "Requirement already satisfied: fsspec>=2024.2.0 in /opt/anaconda3/envs/visa/lib/python3.8/site-packages (from evidently) (2024.10.0)\n",
      "Requirement already satisfied: ujson>=5.4.0 in /opt/anaconda3/envs/visa/lib/python3.8/site-packages (from evidently) (5.7.0)\n",
      "Requirement already satisfied: deprecation>=2.1.0 in /opt/anaconda3/envs/visa/lib/python3.8/site-packages (from evidently) (2.1.0)\n",
      "Requirement already satisfied: opentelemetry-api>=1.25.0 in /opt/anaconda3/envs/visa/lib/python3.8/site-packages (from evidently) (1.27.0)\n",
      "Requirement already satisfied: opentelemetry-sdk>=1.25.0 in /opt/anaconda3/envs/visa/lib/python3.8/site-packages (from evidently) (1.27.0)\n",
      "Requirement already satisfied: opentelemetry-proto>=1.25.0 in /opt/anaconda3/envs/visa/lib/python3.8/site-packages (from evidently) (1.27.0)\n",
      "Requirement already satisfied: opentelemetry-exporter-otlp-proto-grpc>=1.25.0 in /opt/anaconda3/envs/visa/lib/python3.8/site-packages (from evidently) (1.27.0)\n",
      "Requirement already satisfied: opentelemetry-exporter-otlp-proto-http>=1.25.0 in /opt/anaconda3/envs/visa/lib/python3.8/site-packages (from evidently) (1.27.0)\n",
      "Requirement already satisfied: packaging in /opt/anaconda3/envs/visa/lib/python3.8/site-packages (from deprecation>=2.1.0->evidently) (24.2)\n",
      "Requirement already satisfied: appdirs in /opt/anaconda3/envs/visa/lib/python3.8/site-packages (from iterative-telemetry>=0.0.5->evidently) (1.4.4)\n",
      "Requirement already satisfied: filelock in /opt/anaconda3/envs/visa/lib/python3.8/site-packages (from iterative-telemetry>=0.0.5->evidently) (3.16.1)\n",
      "Requirement already satisfied: distro in /opt/anaconda3/envs/visa/lib/python3.8/site-packages (from iterative-telemetry>=0.0.5->evidently) (1.9.0)\n",
      "Requirement already satisfied: anyio>=3 in /opt/anaconda3/envs/visa/lib/python3.8/site-packages (from litestar>=2.8.3->evidently) (4.4.0)\n",
      "Requirement already satisfied: click in /opt/anaconda3/envs/visa/lib/python3.8/site-packages (from litestar>=2.8.3->evidently) (8.1.7)\n",
      "Requirement already satisfied: exceptiongroup in /opt/anaconda3/envs/visa/lib/python3.8/site-packages (from litestar>=2.8.3->evidently) (1.2.2)\n",
      "Requirement already satisfied: httpx>=0.22 in /opt/anaconda3/envs/visa/lib/python3.8/site-packages (from litestar>=2.8.3->evidently) (0.27.2)\n",
      "Requirement already satisfied: importlib-metadata in /opt/anaconda3/envs/visa/lib/python3.8/site-packages (from litestar>=2.8.3->evidently) (7.0.2)\n",
      "Requirement already satisfied: importlib-resources>=5.12.0 in /opt/anaconda3/envs/visa/lib/python3.8/site-packages (from litestar>=2.8.3->evidently) (6.4.5)\n",
      "Requirement already satisfied: msgspec>=0.18.2 in /opt/anaconda3/envs/visa/lib/python3.8/site-packages (from litestar>=2.8.3->evidently) (0.18.6)\n",
      "Requirement already satisfied: multidict>=6.0.2 in /opt/anaconda3/envs/visa/lib/python3.8/site-packages (from litestar>=2.8.3->evidently) (6.0.5)\n",
      "Requirement already satisfied: polyfactory>=2.6.3 in /opt/anaconda3/envs/visa/lib/python3.8/site-packages (from litestar>=2.8.3->evidently) (2.18.1)\n",
      "Requirement already satisfied: rich-click in /opt/anaconda3/envs/visa/lib/python3.8/site-packages (from litestar>=2.8.3->evidently) (1.8.3)\n",
      "Requirement already satisfied: typing-extensions in /opt/anaconda3/envs/visa/lib/python3.8/site-packages (from litestar>=2.8.3->evidently) (4.12.2)\n",
      "Requirement already satisfied: joblib in /opt/anaconda3/envs/visa/lib/python3.8/site-packages (from nltk>=3.6.7->evidently) (1.4.2)\n",
      "Requirement already satisfied: regex>=2021.8.3 in /opt/anaconda3/envs/visa/lib/python3.8/site-packages (from nltk>=3.6.7->evidently) (2024.7.24)\n",
      "Requirement already satisfied: tqdm in /opt/anaconda3/envs/visa/lib/python3.8/site-packages (from nltk>=3.6.7->evidently) (4.67.1)\n",
      "Requirement already satisfied: deprecated>=1.2.6 in /opt/anaconda3/envs/visa/lib/python3.8/site-packages (from opentelemetry-api>=1.25.0->evidently) (1.2.15)\n",
      "Requirement already satisfied: googleapis-common-protos~=1.52 in /opt/anaconda3/envs/visa/lib/python3.8/site-packages (from opentelemetry-exporter-otlp-proto-grpc>=1.25.0->evidently) (1.65.0)\n",
      "Requirement already satisfied: grpcio<2.0.0,>=1.0.0 in /opt/anaconda3/envs/visa/lib/python3.8/site-packages (from opentelemetry-exporter-otlp-proto-grpc>=1.25.0->evidently) (1.52.1)\n",
      "Requirement already satisfied: opentelemetry-exporter-otlp-proto-common==1.27.0 in /opt/anaconda3/envs/visa/lib/python3.8/site-packages (from opentelemetry-exporter-otlp-proto-grpc>=1.25.0->evidently) (1.27.0)\n",
      "Requirement already satisfied: protobuf<5.0,>=3.19 in /opt/anaconda3/envs/visa/lib/python3.8/site-packages (from opentelemetry-proto>=1.25.0->evidently) (4.21.12)\n",
      "Requirement already satisfied: opentelemetry-semantic-conventions==0.48b0 in /opt/anaconda3/envs/visa/lib/python3.8/site-packages (from opentelemetry-sdk>=1.25.0->evidently) (0.48b0)\n",
      "Requirement already satisfied: python-dateutil>=2.8.2 in /opt/anaconda3/envs/visa/lib/python3.8/site-packages (from pandas>=1.3.5->pandas[parquet]>=1.3.5->evidently) (2.9.0)\n",
      "Requirement already satisfied: pytz>=2020.1 in /opt/anaconda3/envs/visa/lib/python3.8/site-packages (from pandas>=1.3.5->pandas[parquet]>=1.3.5->evidently) (2024.2)\n",
      "Requirement already satisfied: tzdata>=2022.1 in /opt/anaconda3/envs/visa/lib/python3.8/site-packages (from pandas>=1.3.5->pandas[parquet]>=1.3.5->evidently) (2024.2)\n",
      "Requirement already satisfied: pyarrow>=7.0.0 in /opt/anaconda3/envs/visa/lib/python3.8/site-packages (from pandas[parquet]>=1.3.5->evidently) (11.0.0)\n",
      "Requirement already satisfied: tenacity>=6.2.0 in /opt/anaconda3/envs/visa/lib/python3.8/site-packages (from plotly>=5.10.0->evidently) (9.0.0)\n",
      "Requirement already satisfied: annotated-types>=0.4.0 in /opt/anaconda3/envs/visa/lib/python3.8/site-packages (from pydantic>=1.10.13->evidently) (0.7.0)\n",
      "Requirement already satisfied: pydantic-core==2.20.1 in /opt/anaconda3/envs/visa/lib/python3.8/site-packages (from pydantic>=1.10.13->evidently) (2.20.1)\n",
      "Requirement already satisfied: charset-normalizer<4,>=2 in /opt/anaconda3/envs/visa/lib/python3.8/site-packages (from requests>=2.32.0->evidently) (3.4.0)\n",
      "Requirement already satisfied: idna<4,>=2.5 in /opt/anaconda3/envs/visa/lib/python3.8/site-packages (from requests>=2.32.0->evidently) (3.10)\n",
      "Requirement already satisfied: markdown-it-py>=2.2.0 in /opt/anaconda3/envs/visa/lib/python3.8/site-packages (from rich>=13->evidently) (3.0.0)\n",
      "Requirement already satisfied: pygments<3.0.0,>=2.13.0 in /opt/anaconda3/envs/visa/lib/python3.8/site-packages (from rich>=13->evidently) (2.18.0)\n",
      "Requirement already satisfied: threadpoolctl>=2.0.0 in /opt/anaconda3/envs/visa/lib/python3.8/site-packages (from scikit-learn>=1.0.1->evidently) (3.5.0)\n",
      "Requirement already satisfied: patsy>=0.5.4 in /opt/anaconda3/envs/visa/lib/python3.8/site-packages (from statsmodels>=0.12.2->evidently) (0.5.6)\n",
      "Requirement already satisfied: shellingham>=1.3.0 in /opt/anaconda3/envs/visa/lib/python3.8/site-packages (from typer>=0.3->evidently) (1.5.4)\n",
      "Requirement already satisfied: mypy-extensions>=0.3.0 in /opt/anaconda3/envs/visa/lib/python3.8/site-packages (from typing-inspect>=0.9.0->evidently) (1.0.0)\n",
      "Requirement already satisfied: h11>=0.8 in /opt/anaconda3/envs/visa/lib/python3.8/site-packages (from uvicorn>=0.22.0->uvicorn[standard]>=0.22.0->evidently) (0.14.0)\n",
      "Collecting httptools>=0.6.3 (from uvicorn[standard]>=0.22.0->evidently)\n",
      "  Downloading httptools-0.6.4-cp38-cp38-macosx_11_0_arm64.whl.metadata (3.6 kB)\n",
      "Requirement already satisfied: python-dotenv>=0.13 in /opt/anaconda3/envs/visa/lib/python3.8/site-packages (from uvicorn[standard]>=0.22.0->evidently) (1.0.1)\n",
      "Requirement already satisfied: uvloop!=0.15.0,!=0.15.1,>=0.14.0 in /opt/anaconda3/envs/visa/lib/python3.8/site-packages (from uvicorn[standard]>=0.22.0->evidently) (0.20.0)\n",
      "Requirement already satisfied: watchfiles>=0.13 in /opt/anaconda3/envs/visa/lib/python3.8/site-packages (from uvicorn[standard]>=0.22.0->evidently) (0.23.0)\n",
      "Requirement already satisfied: websockets>=10.4 in /opt/anaconda3/envs/visa/lib/python3.8/site-packages (from uvicorn[standard]>=0.22.0->evidently) (13.0)\n",
      "Requirement already satisfied: sniffio>=1.1 in /opt/anaconda3/envs/visa/lib/python3.8/site-packages (from anyio>=3->litestar>=2.8.3->evidently) (1.3.1)\n",
      "Requirement already satisfied: wrapt<2,>=1.10 in /opt/anaconda3/envs/visa/lib/python3.8/site-packages (from deprecated>=1.2.6->opentelemetry-api>=1.25.0->evidently) (1.16.0)\n",
      "Requirement already satisfied: httpcore==1.* in /opt/anaconda3/envs/visa/lib/python3.8/site-packages (from httpx>=0.22->litestar>=2.8.3->evidently) (1.0.7)\n",
      "Requirement already satisfied: zipp>=0.5 in /opt/anaconda3/envs/visa/lib/python3.8/site-packages (from importlib-metadata->litestar>=2.8.3->evidently) (3.21.0)\n",
      "Requirement already satisfied: mdurl~=0.1 in /opt/anaconda3/envs/visa/lib/python3.8/site-packages (from markdown-it-py>=2.2.0->rich>=13->evidently) (0.1.2)\n",
      "Requirement already satisfied: six in /opt/anaconda3/envs/visa/lib/python3.8/site-packages (from patsy>=0.5.4->statsmodels>=0.12.2->evidently) (1.16.0)\n",
      "Requirement already satisfied: faker in /opt/anaconda3/envs/visa/lib/python3.8/site-packages (from polyfactory>=2.6.3->litestar>=2.8.3->evidently) (32.1.0)\n",
      "Downloading httptools-0.6.4-cp38-cp38-macosx_11_0_arm64.whl (105 kB)\n",
      "Installing collected packages: httptools\n",
      "  Attempting uninstall: httptools\n",
      "    Found existing installation: httptools 0.6.1\n",
      "    Uninstalling httptools-0.6.1:\n",
      "      Successfully uninstalled httptools-0.6.1\n",
      "Successfully installed httptools-0.6.4\n"
     ]
    }
   ],
   "source": [
    "!pip install evidently"
   ]
  },
  {
   "cell_type": "code",
   "execution_count": 2,
   "id": "24fb7eab",
   "metadata": {},
   "outputs": [
    {
     "name": "stdout",
     "output_type": "stream",
     "text": [
      "OK\n"
     ]
    }
   ],
   "source": [
    "print(\"OK\")\n"
   ]
  },
  {
   "cell_type": "code",
   "execution_count": null,
   "id": "f5ddbf90",
   "metadata": {},
   "outputs": [],
   "source": [
    "# Use Python 3.8.19 "
   ]
  },
  {
   "cell_type": "code",
   "execution_count": null,
   "id": "6df1dbcd",
   "metadata": {},
   "outputs": [],
   "source": [
    "import pandas as pd\n",
    "from evidently.dashboard import Dashboard\n",
    "from evidently.tabs import DataDriftTab, CatTargetDriftTab\n",
    "from evidently.model_profile import Profile\n",
    "from evidently.profile_sections import DataDriftProfileSection\n"
   ]
  },
  {
   "cell_type": "code",
   "execution_count": null,
   "id": "00765eee",
   "metadata": {},
   "outputs": [],
   "source": []
  },
  {
   "cell_type": "code",
   "execution_count": null,
   "id": "a46f95c8",
   "metadata": {},
   "outputs": [],
   "source": []
  },
  {
   "cell_type": "code",
   "execution_count": null,
   "id": "983a5bd9",
   "metadata": {},
   "outputs": [],
   "source": []
  },
  {
   "cell_type": "code",
   "execution_count": null,
   "id": "28248dd6",
   "metadata": {},
   "outputs": [],
   "source": []
  },
  {
   "cell_type": "code",
   "execution_count": null,
   "id": "5ab1d1b6",
   "metadata": {},
   "outputs": [],
   "source": []
  },
  {
   "cell_type": "code",
   "execution_count": null,
   "id": "2f663612",
   "metadata": {},
   "outputs": [],
   "source": []
  },
  {
   "cell_type": "code",
   "execution_count": null,
   "id": "8864876b",
   "metadata": {},
   "outputs": [],
   "source": []
  },
  {
   "cell_type": "code",
   "execution_count": null,
   "id": "abcd48d1",
   "metadata": {},
   "outputs": [],
   "source": []
  },
  {
   "cell_type": "code",
   "execution_count": null,
   "id": "2de957e4",
   "metadata": {},
   "outputs": [],
   "source": []
  },
  {
   "cell_type": "code",
   "execution_count": null,
   "id": "8e26369b",
   "metadata": {},
   "outputs": [],
   "source": []
  },
  {
   "cell_type": "code",
   "execution_count": null,
   "id": "44e59a99",
   "metadata": {},
   "outputs": [],
   "source": []
  },
  {
   "cell_type": "code",
   "execution_count": null,
   "id": "23c68baf",
   "metadata": {},
   "outputs": [],
   "source": []
  },
  {
   "cell_type": "code",
   "execution_count": null,
   "id": "c53c7b92",
   "metadata": {},
   "outputs": [],
   "source": []
  },
  {
   "cell_type": "code",
   "execution_count": null,
   "id": "5770df73",
   "metadata": {},
   "outputs": [],
   "source": []
  },
  {
   "cell_type": "code",
   "execution_count": null,
   "id": "cc2f96cd",
   "metadata": {},
   "outputs": [],
   "source": []
  },
  {
   "cell_type": "code",
   "execution_count": null,
   "id": "5791982e",
   "metadata": {},
   "outputs": [],
   "source": []
  },
  {
   "cell_type": "code",
   "execution_count": null,
   "id": "3df9a719",
   "metadata": {},
   "outputs": [],
   "source": []
  },
  {
   "cell_type": "code",
   "execution_count": null,
   "id": "e4de3c9f",
   "metadata": {},
   "outputs": [],
   "source": []
  },
  {
   "cell_type": "code",
   "execution_count": null,
   "id": "eb079778",
   "metadata": {},
   "outputs": [],
   "source": []
  }
 ],
 "metadata": {
  "kernelspec": {
   "display_name": "visa",
   "language": "python",
   "name": "python3"
  },
  "language_info": {
   "codemirror_mode": {
    "name": "ipython",
    "version": 3
   },
   "file_extension": ".py",
   "mimetype": "text/x-python",
   "name": "python",
   "nbconvert_exporter": "python",
   "pygments_lexer": "ipython3",
   "version": "3.8.18"
  }
 },
 "nbformat": 4,
 "nbformat_minor": 5
}
